{
 "cells": [
  {
   "cell_type": "code",
   "execution_count": 40,
   "metadata": {},
   "outputs": [],
   "source": [
    "from gensim.models import Word2Vec\n",
    "import numpy as np\n",
    "import scipy\n",
    "import re\n",
    "import sys\n",
    "sys.path.insert(0, './oneboard')\n",
    "from database import Database\n",
    "\n",
    "-\n"
   ]
  },
  {
   "cell_type": "code",
   "execution_count": 41,
   "metadata": {},
   "outputs": [
    {
     "name": "stdout",
     "output_type": "stream",
     "text": [
      "loading glove\n",
      "loaded glove\n"
     ]
    }
   ],
   "source": [
    "responseAI = ResponseAI()"
   ]
  },
  {
   "cell_type": "code",
   "execution_count": 42,
   "metadata": {},
   "outputs": [
    {
     "name": "stdout",
     "output_type": "stream",
     "text": [
      "True\n",
      "True\n",
      "False\n",
      "True\n",
      "True\n",
      "False\n",
      "False\n",
      "False\n",
      "False\n",
      "False\n",
      "True\n",
      "False\n",
      "False\n",
      "True\n"
     ]
    },
    {
     "data": {
      "text/plain": [
       "True"
      ]
     },
     "execution_count": 42,
     "metadata": {},
     "output_type": "execute_result"
    }
   ],
   "source": [
    "responseAI.intentClassifier(\"Move on\")\n",
    "responseAI.intentClassifier(\"Got it\")\n",
    "responseAI.intentClassifier(\"Yeah, I'm good with that one\")\n",
    "responseAI.intentClassifier(\"I'm ready to move on\")\n",
    "responseAI.intentClassifier(\"Sounds good!\")\n",
    "responseAI.intentClassifier(\"Ya man. sounds good\")\n",
    "responseAI.intentClassifier(\"I had no difficulty understanding that\")\n",
    "responseAI.intentClassifier(\"i got it, bro\")\n",
    "responseAI.intentClassifier(\"alright\")\n",
    "responseAI.intentClassifier(\"not sure about that\")\n",
    "responseAI.intentClassifier(\"i don't feel perfectly confident\")\n",
    "responseAI.intentClassifier(\"there needs to be more explanation\")\n",
    "responseAI.intentClassifier(\"what is that Ibiza thing about?\")\n",
    "responseAI.intentClassifier(\"i need some help\")"
   ]
  },
  {
   "cell_type": "code",
   "execution_count": null,
   "metadata": {},
   "outputs": [],
   "source": []
  }
 ],
 "metadata": {
  "kernelspec": {
   "display_name": "Python 2",
   "language": "python",
   "name": "python2"
  },
  "language_info": {
   "codemirror_mode": {
    "name": "ipython",
    "version": 2
   },
   "file_extension": ".py",
   "mimetype": "text/x-python",
   "name": "python",
   "nbconvert_exporter": "python",
   "pygments_lexer": "ipython2",
   "version": "2.7.14"
  }
 },
 "nbformat": 4,
 "nbformat_minor": 2
}
